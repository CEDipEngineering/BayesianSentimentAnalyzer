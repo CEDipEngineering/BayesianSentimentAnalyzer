{
 "cells": [
  {
   "cell_type": "markdown",
   "metadata": {},
   "source": [
    "# Projeto 2 - Ciência dos Dados"
   ]
  },
  {
   "cell_type": "markdown",
   "metadata": {},
   "source": [
    "Nome: Carlos Eduardo Dip\n",
    "\n",
    "Nome: Gianluca Lazzaris Giudici"
   ]
  },
  {
   "cell_type": "markdown",
   "metadata": {},
   "source": [
    "# Proposta\n",
    "___\n",
    "\n",
    "Neste projeto, a proposta é criar um identificador de sentimento, a partir de um analisador Naïve-Bayes, que faz uso principalmente do Teorema de Bayes, e é um modelo de Machine Learning.\n",
    "___\n",
    "# Classificador automático de sentimento\n",
    "\n",
    "<img src = 'logo.jpg' style = 'width:30%'>\n",
    "\n",
    "Empresa escolhida: Uber"
   ]
  },
  {
   "cell_type": "markdown",
   "metadata": {},
   "source": [
    "___\n",
    "## Preparando o ambiente no jupyter:\n",
    "\n",
    "Primeiro importamos os módulos que serão utilizados:"
   ]
  },
  {
   "cell_type": "code",
   "execution_count": 61,
   "metadata": {},
   "outputs": [],
   "source": [
    "import numpy as np\n",
    "import os.path\n",
    "import pandas as pd\n",
    "import json\n",
    "import re\n",
    "import string\n",
    "import functools\n",
    "import operator\n",
    "from random import shuffle\n",
    "\n",
    "try:\n",
    "    import emoji\n",
    "except:\n",
    "    !pip install emoji --upgrade\n",
    "    import emoji"
   ]
  },
  {
   "cell_type": "markdown",
   "metadata": {},
   "source": [
    "___\n",
    "### Coleta de Dados:\n",
    "\n",
    "Para a análise que será feita, serão usados tweets (da plataforma Twitter), que serão extraídos através de uma API chamada Tweepy;\n",
    "Os dados foram coletados em outro notebook, chamado Coletor.ipynb. Abaixo, será importado o excel com os dados já classificados."
   ]
  },
  {
   "cell_type": "markdown",
   "metadata": {},
   "source": [
    "___\n",
    "\n",
    "## Limpeza, aquisição e organização dos dados\n",
    "\n",
    "Primeiro, construímos dataframes (da biblioteca Pandas), para facilitar a visualização e utilização dos dados."
   ]
  },
  {
   "cell_type": "code",
   "execution_count": 62,
   "metadata": {},
   "outputs": [],
   "source": [
    "data_training = pd.read_excel('data/Uber.xlsx')\n",
    "data_validation = pd.read_excel('data/Uber.xlsx', 'Teste')\n",
    "\n",
    "data_training_R = data_training.loc[data_training.Classificacao == 1]\n",
    "data_training_NR = data_training.loc[data_training.Classificacao == 0]\n",
    "TrainingString_Relevant = ''\n",
    "TrainingString_NotRelevant = ''"
   ]
  },
  {
   "cell_type": "markdown",
   "metadata": {},
   "source": [
    "Agora, podemos visualizar o formato que o dataframe se encontra. Ele possuí 2 colunas (fora o índice), uma delas indica qual a classificação (1 é relevante, e 0 é irrelevante), e a outra mostra o tweet que foi avaliado.\n"
   ]
  },
  {
   "cell_type": "code",
   "execution_count": 63,
   "metadata": {},
   "outputs": [
    {
     "data": {
      "text/html": [
       "<div>\n",
       "<style scoped>\n",
       "    .dataframe tbody tr th:only-of-type {\n",
       "        vertical-align: middle;\n",
       "    }\n",
       "\n",
       "    .dataframe tbody tr th {\n",
       "        vertical-align: top;\n",
       "    }\n",
       "\n",
       "    .dataframe thead th {\n",
       "        text-align: right;\n",
       "    }\n",
       "</style>\n",
       "<table border=\"1\" class=\"dataframe\">\n",
       "  <thead>\n",
       "    <tr style=\"text-align: right;\">\n",
       "      <th></th>\n",
       "      <th>Treinamento</th>\n",
       "      <th>Classificacao</th>\n",
       "    </tr>\n",
       "  </thead>\n",
       "  <tbody>\n",
       "    <tr>\n",
       "      <th>0</th>\n",
       "      <td>uma corrida com esse uber a única forma de pag...</td>\n",
       "      <td>0</td>\n",
       "    </tr>\n",
       "    <tr>\n",
       "      <th>1</th>\n",
       "      <td>uber testa em são paulo programa que avalia qu...</td>\n",
       "      <td>1</td>\n",
       "    </tr>\n",
       "    <tr>\n",
       "      <th>2</th>\n",
       "      <td>vcs que andam de uber nem falem comigo, além d...</td>\n",
       "      <td>0</td>\n",
       "    </tr>\n",
       "    <tr>\n",
       "      <th>3</th>\n",
       "      <td>a fic: terminei o último episódio de glee (dnv...</td>\n",
       "      <td>1</td>\n",
       "    </tr>\n",
       "    <tr>\n",
       "      <th>4</th>\n",
       "      <td>olivares, cida \\nsobre seu uber \\n\\nmas podia ...</td>\n",
       "      <td>0</td>\n",
       "    </tr>\n",
       "    <tr>\n",
       "      <th>5</th>\n",
       "      <td>nossa que vontade de sentar no uber, quer dize...</td>\n",
       "      <td>0</td>\n",
       "    </tr>\n",
       "    <tr>\n",
       "      <th>6</th>\n",
       "      <td>adoro ler os feedbacks do uber https://t.co/lp...</td>\n",
       "      <td>1</td>\n",
       "    </tr>\n",
       "    <tr>\n",
       "      <th>7</th>\n",
       "      <td>uber com balinha tudo pra mim</td>\n",
       "      <td>1</td>\n",
       "    </tr>\n",
       "    <tr>\n",
       "      <th>8</th>\n",
       "      <td>so uber e faço isso todo dia... https://t.co/e...</td>\n",
       "      <td>1</td>\n",
       "    </tr>\n",
       "    <tr>\n",
       "      <th>9</th>\n",
       "      <td>moço do uber: vc é a melhor da classe? \\neu: n...</td>\n",
       "      <td>1</td>\n",
       "    </tr>\n",
       "  </tbody>\n",
       "</table>\n",
       "</div>"
      ],
      "text/plain": [
       "                                         Treinamento  Classificacao\n",
       "0  uma corrida com esse uber a única forma de pag...              0\n",
       "1  uber testa em são paulo programa que avalia qu...              1\n",
       "2  vcs que andam de uber nem falem comigo, além d...              0\n",
       "3  a fic: terminei o último episódio de glee (dnv...              1\n",
       "4  olivares, cida \\nsobre seu uber \\n\\nmas podia ...              0\n",
       "5  nossa que vontade de sentar no uber, quer dize...              0\n",
       "6  adoro ler os feedbacks do uber https://t.co/lp...              1\n",
       "7                      uber com balinha tudo pra mim              1\n",
       "8  so uber e faço isso todo dia... https://t.co/e...              1\n",
       "9  moço do uber: vc é a melhor da classe? \\neu: n...              1"
      ]
     },
     "execution_count": 63,
     "metadata": {},
     "output_type": "execute_result"
    }
   ],
   "source": [
    "data_training.head(10)"
   ]
  },
  {
   "cell_type": "code",
   "execution_count": 64,
   "metadata": {},
   "outputs": [
    {
     "data": {
      "text/plain": [
       "1    0.56\n",
       "0    0.44\n",
       "Name: Classificacao, dtype: float64"
      ]
     },
     "execution_count": 64,
     "metadata": {},
     "output_type": "execute_result"
    }
   ],
   "source": [
    "data_training.Classificacao.value_counts(True)"
   ]
  },
  {
   "cell_type": "markdown",
   "metadata": {},
   "source": [
    "Com a série acima, percebemos que 56% dos tweets são relevantes, e 44% não, de acordo com nossa avaliação manual.\n",
    "\n",
    "Podemos perceber, contudo, que esses tweets possuem pontuação, emojis, e alguns caractéres como **\\n**, que irão poluir a análise.\n",
    "\n",
    "Por isso, produzimos algumas funções que são capazes de limpar os tweets, para facilitar a análise."
   ]
  },
  {
   "cell_type": "code",
   "execution_count": 65,
   "metadata": {},
   "outputs": [],
   "source": [
    "def check_laughter(word):\n",
    "    for letter in word:\n",
    "        if letter != 'k':\n",
    "            return False\n",
    "    return True\n",
    "\n",
    "def cleanup(text):\n",
    "\n",
    "    text_split_emoji = emoji.get_emoji_regexp().split(text)\n",
    "    text_split_whitespace = [substr.split() for substr in text_split_emoji]\n",
    "    text_split = functools.reduce(operator.concat, text_split_whitespace)\n",
    "    text_split = ' '.join(word for word in text_split)\n",
    "    \n",
    "    text = ' '.join(word for word in text_split.split() if not word.startswith('https'))\n",
    "    \n",
    "    \n",
    "    punctuation = '[!-.:?;]'\n",
    "    pattern = re.compile(punctuation)\n",
    "    text_subbed = re.sub(pattern, ' ', text)\n",
    "    text_subbed = text_subbed.lower()\n",
    "    text_out = ' '\n",
    "    \n",
    "    \n",
    "    for word in text_subbed.split():\n",
    "        if check_laughter(word):\n",
    "            text_out += ' haha'\n",
    "        else:\n",
    "            text_out += ' ' + word\n",
    "    \n",
    "    \n",
    "    return text_out    "
   ]
  },
  {
   "cell_type": "code",
   "execution_count": 66,
   "metadata": {},
   "outputs": [
    {
     "name": "stdout",
     "output_type": "stream",
     "text": [
      "  x gon give it to ya fuck wait for you to get it on your own x gon deliver to ya knock knock open up the door it s real wit the non stop pop pop and stainless steel go hard gettin busy wit it uber blah blah haha 👨🏿 😷 😷 uber blah blah haha 👨🏿 😷 😷\n",
      "['x', 'gon', 'give', 'it', 'to', 'ya', 'fuck', 'wait', 'for', 'you', 'to', 'get', 'it', 'on', 'your', 'own', 'x', 'gon', 'deliver', 'to', 'ya', 'knock', 'knock', 'open', 'up', 'the', 'door', 'it', 's', 'real', 'wit', 'the', 'non', 'stop', 'pop', 'pop', 'and', 'stainless', 'steel', 'go', 'hard', 'gettin', 'busy', 'wit', 'it', 'uber', 'blah', 'blah', 'haha', '👨🏿', '😷', '😷', 'uber', 'blah', 'blah', 'haha', '👨🏿', '😷', '😷']\n"
     ]
    }
   ],
   "source": [
    "### --- Cleanup function demo --- ###\n",
    "demo_string_ =  \"\"\"\n",
    "                X gon give it to ya\n",
    "                Fuck wait for you to get it on your own\n",
    "                X gon deliver to ya\n",
    "                Knock knock, open up the door, it's real\n",
    "                Wit the non-stop, pop pop and stainless steel\n",
    "                Go hard gettin busy wit it\n",
    "                https://img.imgur/1337, uber blah blah kkk, 👨🏿😷😷\n",
    "                https://img.imgur/1337, uber blah blah kkkkkkk, 👨🏿😷😷\n",
    "                \"\"\"\n",
    "\n",
    "print(cleanup(demo_string_))\n",
    "print(cleanup(demo_string_).split())"
   ]
  },
  {
   "cell_type": "markdown",
   "metadata": {},
   "source": [
    "Acima, temos um exemplo de uso da função que limpa os textos necessários. Ela é capaz de remover **\\n** (caractéres de quebra de linha), hyperlinks, pontuações, e também separa emojis das palavras e entre si. Outra coisa que será útil para a análise é transformar risadas (comumente representadas por uma série de caractéres *k* seguidos), em uma representação padrão, que foi escolhida como 'haha'."
   ]
  },
  {
   "cell_type": "code",
   "execution_count": 67,
   "metadata": {},
   "outputs": [],
   "source": [
    "for phrase in data_training_R.Treinamento:\n",
    "    TrainingString_Relevant += phrase\n",
    "for phrase in data_training_NR.Treinamento:\n",
    "    TrainingString_NotRelevant += phrase    \n",
    "    \n",
    "cleanup(TrainingString_NotRelevant)\n",
    "cleanup(TrainingString_Relevant)\n",
    "\n",
    "TrainingSeries_Relevant = pd.Series(TrainingString_Relevant.split()).value_counts(True)\n",
    "TrainingSeries_NotRelevant = pd.Series(TrainingString_NotRelevant.split()).value_counts(True)\n",
    "\n",
    "LaplaceConstant = 1\n",
    "\n",
    "SampleSize_Relevant = len(TrainingString_Relevant.split())\n",
    "SampleSize_NotRelevant = len(TrainingString_NotRelevant.split())\n",
    "SampleSize_Total = SampleSize_Relevant+SampleSize_NotRelevant\n"
   ]
  },
  {
   "cell_type": "markdown",
   "metadata": {},
   "source": [
    "___\n",
    "### Montando o Classificador Naive-Bayes\n",
    "\n",
    "Considerando apenas as mensagens da planilha Treinamento, ensine  seu classificador."
   ]
  },
  {
   "cell_type": "code",
   "execution_count": 68,
   "metadata": {},
   "outputs": [
    {
     "name": "stdout",
     "output_type": "stream",
     "text": [
      "0.44193345888261143 0.5580665411173886\n"
     ]
    }
   ],
   "source": [
    "P_Relevant = SampleSize_Relevant/SampleSize_Total\n",
    "P_NotRelevant = SampleSize_NotRelevant/SampleSize_Total\n",
    "print(P_NotRelevant, P_Relevant)"
   ]
  },
  {
   "cell_type": "code",
   "execution_count": 69,
   "metadata": {},
   "outputs": [],
   "source": [
    "def evaluate_relevance(tweet = \"\"):\n",
    "    \n",
    "    ## -- Cleaning tweet\n",
    "    text = cleanup(tweet)\n",
    "    \n",
    "    ## -- Evaluates likelihood\n",
    "    sumR = 0\n",
    "    sumNR = 0\n",
    "    \n",
    "    for word in text.split():\n",
    "    \n",
    "        if word in TrainingSeries_Relevant: \n",
    "            sumR += np.log((TrainingSeries_Relevant[word]+LaplaceConstant)/((SampleSize_Total+1)*LaplaceConstant))\n",
    "        else:\n",
    "            sumR += np.log(LaplaceConstant/((SampleSize_Total+1)*LaplaceConstant))\n",
    "        if word in TrainingSeries_NotRelevant: \n",
    "            sumNR += np.log((TrainingSeries_NotRelevant[word]+LaplaceConstant)/((SampleSize_Total+1)*LaplaceConstant))\n",
    "        else:\n",
    "            sumNR += np.log(LaplaceConstant/((SampleSize_Total+1)*LaplaceConstant))\n",
    "     \n",
    "    \n",
    "    return sumR>sumNR\n"
   ]
  },
  {
   "cell_type": "markdown",
   "metadata": {},
   "source": [
    "___\n",
    "### Verificando a performance\n",
    "\n",
    "Agora você deve testar o seu classificador com a base de Testes."
   ]
  },
  {
   "cell_type": "code",
   "execution_count": 70,
   "metadata": {},
   "outputs": [],
   "source": [
    "evaluations = [int(evaluate_relevance(tweet)) for tweet in data_validation.Teste]"
   ]
  },
  {
   "cell_type": "code",
   "execution_count": 71,
   "metadata": {},
   "outputs": [],
   "source": [
    "data_validation['bayes'] = evaluations"
   ]
  },
  {
   "cell_type": "code",
   "execution_count": 72,
   "metadata": {},
   "outputs": [
    {
     "data": {
      "text/plain": [
       "{'True-True': 0.36180904522613067,\n",
       " 'True-False': 0.16080402010050251,\n",
       " 'False-True': 0.3165829145728643,\n",
       " 'False-False': 0.16080402010050251,\n",
       " 'Final-Accuracy': '52.261%'}"
      ]
     },
     "execution_count": 72,
     "metadata": {},
     "output_type": "execute_result"
    }
   ],
   "source": [
    "Accuracy = {'True-True':0,\n",
    "            'True-False':0,\n",
    "            'False-True':0,\n",
    "            'False-False':0\n",
    "           }\n",
    "\n",
    "\n",
    "for tweet,evaluation in zip(data_validation.classificacao, data_validation.bayes):\n",
    "    if tweet and evaluation:\n",
    "        Accuracy['True-True'] += 1\n",
    "    elif tweet and not evaluation:\n",
    "        Accuracy['True-False'] += 1\n",
    "    elif not tweet and evaluation:\n",
    "        Accuracy['False-True'] += 1\n",
    "    elif not tweet and not evaluation:\n",
    "        Accuracy['False-False'] += 1\n",
    "\n",
    "Accuracy_Normalized = {}\n",
    "S = sum(Accuracy.values())\n",
    "for k,v in Accuracy.items():\n",
    "    Accuracy_Normalized[k] = v/S\n",
    "Accuracy_Normalized['Final-Accuracy'] = str(round((Accuracy_Normalized['True-True']+Accuracy_Normalized['False-False'])*100, 3)) + '%'\n",
    "Accuracy_Normalized"
   ]
  },
  {
   "cell_type": "markdown",
   "metadata": {},
   "source": [
    "___\n",
    "### Concluindo"
   ]
  },
  {
   "cell_type": "code",
   "execution_count": null,
   "metadata": {},
   "outputs": [],
   "source": []
  },
  {
   "cell_type": "code",
   "execution_count": null,
   "metadata": {},
   "outputs": [],
   "source": []
  },
  {
   "cell_type": "markdown",
   "metadata": {},
   "source": [
    "## Aperfeiçoamento:\n",
    "\n",
    "Os trabalhos vão evoluir em conceito dependendo da quantidade de itens avançados:\n",
    "\n",
    "* Limpar: \\n, :, \", ', (, ), etc SEM remover emojis\n",
    "* Corrigir separação de espaços entre palavras e emojis ou emojis e emojis\n",
    "* Propor outras limpezas e transformações que não afetem a qualidade da informação ou classificação\n",
    "* Criar categorias intermediárias de relevância baseadas na probabilidade: ex.: muito relevante, relevante, neutro, irrelevante, muito irrelevante (3 categorias: C, mais categorias conta para B)\n",
    "* Explicar por que não posso usar o próprio classificador para gerar mais amostras de treinamento\n",
    "* Propor diferentes cenários para Naïve Bayes fora do contexto do projeto\n",
    "* Sugerir e explicar melhorias reais com indicações concretas de como implementar (indicar como fazer e indicar material de pesquisa)\n",
    "* Montar um dashboard que periodicamente realiza análise de sentimento e visualiza estes dados"
   ]
  },
  {
   "cell_type": "markdown",
   "metadata": {},
   "source": [
    "# Referências"
   ]
  },
  {
   "cell_type": "markdown",
   "metadata": {},
   "source": [
    "[Naive Bayes and Text Classification](https://arxiv.org/pdf/1410.5329.pdf)  **Mais completo**\n",
    "\n",
    "[A practical explanation of a Naive Bayes Classifier](https://monkeylearn.com/blog/practical-explanation-naive-bayes-classifier/) **Mais simples**\n",
    "\n",
    "[Laplace smoothing](https://en.wikipedia.org/wiki/Additive_smoothing) **Explicação da técnica para lidar com palavras novas**"
   ]
  },
  {
   "cell_type": "code",
   "execution_count": null,
   "metadata": {},
   "outputs": [],
   "source": []
  }
 ],
 "metadata": {
  "kernelspec": {
   "display_name": "Python 3",
   "language": "python",
   "name": "python3"
  },
  "language_info": {
   "codemirror_mode": {
    "name": "ipython",
    "version": 3
   },
   "file_extension": ".py",
   "mimetype": "text/x-python",
   "name": "python",
   "nbconvert_exporter": "python",
   "pygments_lexer": "ipython3",
   "version": "3.7.1"
  }
 },
 "nbformat": 4,
 "nbformat_minor": 4
}
